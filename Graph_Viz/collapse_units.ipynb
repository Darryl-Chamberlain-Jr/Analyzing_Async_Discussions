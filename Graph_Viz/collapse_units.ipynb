{
 "cells": [
  {
   "cell_type": "markdown",
   "metadata": {},
   "source": [
    "# Visualization for Social Interaction"
   ]
  },
  {
   "cell_type": "code",
   "execution_count": null,
   "metadata": {},
   "outputs": [],
   "source": [
    "import numpy as np\n",
    "import pandas as pd"
   ]
  },
  {
   "cell_type": "code",
   "execution_count": null,
   "metadata": {},
   "outputs": [],
   "source": [
    "test_xl = pd.read_excel('viz_structure_post_3_test.xlsx')\n",
    "#test_xl"
   ]
  },
  {
   "cell_type": "code",
   "execution_count": null,
   "metadata": {},
   "outputs": [],
   "source": [
    "list_of_col_names = []\n",
    "for column in test_xl.columns:\n",
    "    list_of_col_names.append(column)\n",
    "\n",
    "groupby_names = ['Node', 'Post', 'Depth', 'Base Connection', 'Additional Connections', 'Speaker ID']\n",
    "\n",
    "for name in groupby_names:\n",
    "    list_of_col_names.remove(name)"
   ]
  },
  {
   "cell_type": "code",
   "execution_count": null,
   "metadata": {},
   "outputs": [],
   "source": [
    "def collapse_multiples(list_of_codes):\n",
    "    try:\n",
    "        collapse_list = list(set(list_of_codes))\n",
    "    except:\n",
    "        collapse_list = list_of_codes\n",
    "    return collapse_list\n",
    "\n",
    "def remove_nan(list_of_codes):\n",
    "    try: \n",
    "        nan_removed_list = [x for x in list_of_codes if x == x]\n",
    "    except:\n",
    "        nan_removed_list = list_of_codes\n",
    "    return nan_removed_list"
   ]
  },
  {
   "cell_type": "code",
   "execution_count": null,
   "metadata": {},
   "outputs": [],
   "source": [
    "# Reverse .explode for each row to be a node\n",
    "\n",
    "test_xl = (test_xl.groupby(groupby_names, dropna=False)\n",
    "           .agg({list_of_col_names[0]: lambda x: x.tolist(), \n",
    "                 list_of_col_names[1]: lambda x: x.tolist(), \n",
    "                 list_of_col_names[2]: lambda x: x.tolist(), \n",
    "                 list_of_col_names[3]: lambda x: x.tolist(), \n",
    "                 list_of_col_names[4]: lambda x: x.tolist(), \n",
    "                 list_of_col_names[5]: lambda x: x.tolist(), \n",
    "                 list_of_col_names[6]: lambda x: x.tolist(), \n",
    "                 list_of_col_names[7]: lambda x: x.tolist(), \n",
    "                 list_of_col_names[8]: lambda x: x.tolist(), \n",
    "                 list_of_col_names[9]: lambda x: x.tolist(), \n",
    "                 list_of_col_names[10]: lambda x: x.tolist(), \n",
    "                 list_of_col_names[11]: lambda x: x.tolist(), \n",
    "                 list_of_col_names[12]: lambda x: x.tolist(), \n",
    "                 list_of_col_names[13]: lambda x: x.tolist(), \n",
    "                 list_of_col_names[14]: lambda x: x.tolist(), \n",
    "                 }, axis=1)).reset_index()"
   ]
  },
  {
   "cell_type": "code",
   "execution_count": null,
   "metadata": {},
   "outputs": [],
   "source": [
    "code_cols = list_of_col_names.copy()\n",
    "code_cols.remove('Analysis Unit')\n",
    "\n",
    "\n",
    "for col in code_cols:\n",
    "    test_xl[col] = test_xl[col].apply(collapse_multiples)\n",
    "\n",
    "for col in code_cols:\n",
    "    test_xl[col] = test_xl[col].apply(remove_nan)"
   ]
  },
  {
   "cell_type": "code",
   "execution_count": null,
   "metadata": {},
   "outputs": [],
   "source": [
    "test_xl\n",
    "#test_xl.to_excel('condensed.xlsx')"
   ]
  }
 ],
 "metadata": {
  "kernelspec": {
   "display_name": "Python 3",
   "language": "python",
   "name": "python3"
  },
  "language_info": {
   "codemirror_mode": {
    "name": "ipython",
    "version": 3
   },
   "file_extension": ".py",
   "mimetype": "text/x-python",
   "name": "python",
   "nbconvert_exporter": "python",
   "pygments_lexer": "ipython3",
   "version": "3.11.3"
  },
  "orig_nbformat": 4
 },
 "nbformat": 4,
 "nbformat_minor": 2
}
