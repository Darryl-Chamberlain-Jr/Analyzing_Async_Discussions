{
 "cells": [
  {
   "cell_type": "code",
   "execution_count": null,
   "id": "6724867f",
   "metadata": {},
   "outputs": [],
   "source": [
    "from canvasapi import Canvas\n",
    "from canvasapi import account\n",
    "import pandas\n",
    "import os\n",
    "import re\n",
    "\n",
    "# If you have import errors, run \n",
    "# pip install canvasapi\n",
    "# on your local terminal"
   ]
  },
  {
   "cell_type": "code",
   "execution_count": null,
   "id": "13ba610c",
   "metadata": {},
   "outputs": [],
   "source": [
    "API_url='https://canvas.instructure.com'\n",
    "\n",
    "# Change to your API\n",
    "# Set up an API key here: \n",
    "## https://community.canvaslms.com/t5/Admin-Guide/How-do-I-add-a-developer-API-key-for-an-account/ta-p/259\n",
    "darryl_API_key=''\n",
    "#zack_API_key=''\n",
    "\n",
    "#canvas = Canvas(API_url, zack_API_key)\n",
    "canvas = Canvas(API_url, darryl_API_key)"
   ]
  },
  {
   "cell_type": "code",
   "execution_count": null,
   "id": "534abae7",
   "metadata": {},
   "outputs": [],
   "source": [
    "for course in canvas.get_courses():\n",
    "    print(course)\n",
    "    \n",
    "# Check for the full course id you want to use"
   ]
  },
  {
   "cell_type": "code",
   "execution_count": null,
   "id": "8dd7a11d",
   "metadata": {},
   "outputs": [],
   "source": [
    "# Change this to the course you are interested in\n",
    "course_id = 23860000000154913\n",
    "course = canvas.get_course(course_id)\n",
    "\n",
    "# Use this to check for the assignment ids\n",
    "assignments = course.get_assignments()\n",
    "for assignment in assignments:\n",
    "    if assignment.id == 23860000003042656:\n",
    "        for submission in assignment.get_submissions():\n",
    "            print(submission)\n",
    "        #for attribute in dir(assignment):\n",
    "        #    print(attribute)"
   ]
  },
  {
   "cell_type": "code",
   "execution_count": null,
   "id": "8d785e4b",
   "metadata": {},
   "outputs": [],
   "source": [
    "discussion_number=23860000003042656\n",
    "discussion_2=course.get_discussion_topic(discussion_number)\n",
    "\n",
    "print(course.get_dicussion_topic(discussion_number))"
   ]
  },
  {
   "cell_type": "code",
   "execution_count": null,
   "id": "0869f796",
   "metadata": {},
   "outputs": [],
   "source": [
    "print(course.get_discussion_topic(discussion_number))"
   ]
  },
  {
   "cell_type": "code",
   "execution_count": null,
   "id": "487dd78c",
   "metadata": {},
   "outputs": [],
   "source": []
  }
 ],
 "metadata": {
  "kernelspec": {
   "display_name": "Python 3 (ipykernel)",
   "language": "python",
   "name": "python3"
  },
  "language_info": {
   "codemirror_mode": {
    "name": "ipython",
    "version": 3
   },
   "file_extension": ".py",
   "mimetype": "text/x-python",
   "name": "python",
   "nbconvert_exporter": "python",
   "pygments_lexer": "ipython3",
   "version": "3.11.3"
  }
 },
 "nbformat": 4,
 "nbformat_minor": 5
}
