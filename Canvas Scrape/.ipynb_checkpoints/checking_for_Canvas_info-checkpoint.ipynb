{
 "cells": [
  {
   "cell_type": "code",
   "execution_count": 1,
   "id": "6724867f",
   "metadata": {},
   "outputs": [],
   "source": [
    "from canvasapi import Canvas\n",
    "from canvasapi import account\n",
    "import pandas\n",
    "import os\n",
    "import re\n",
    "\n",
    "# If you have import errors, run \n",
    "# pip install canvasapi\n",
    "# on your local terminal"
   ]
  },
  {
   "cell_type": "code",
   "execution_count": 2,
   "id": "13ba610c",
   "metadata": {},
   "outputs": [],
   "source": [
    "API_url='https://canvas.instructure.com'\n",
    "\n",
    "# Change to your API\n",
    "# Set up an API key here: \n",
    "## https://community.canvaslms.com/t5/Admin-Guide/How-do-I-add-a-developer-API-key-for-an-account/ta-p/259\n",
    "#darryl_API_key='2386~frxW4VyE1DhfLNNguGSikQqChn4EXPEnwTVdBOMXCMohKs8SiECJa8BtnF44EIyV'\n",
    "zack_API_key='2386~AOsQlkZwKRnY5Gxle1ocPDRLlvx9hKulvELBLFhEg1qGjv6WgTts4XOz0o9eIK4o'\n",
    "#Another Zack API copy here just for posterity: 2386~AOsQlkZwKRnY5Gxle1ocPDRLlvx9hKulvELBLFhEg1qGjv6WgTts4XOz0o9eIK4o\n",
    "\n",
    "canvas = Canvas(API_url, zack_API_key)"
   ]
  },
  {
   "cell_type": "code",
   "execution_count": 3,
   "id": "534abae7",
   "metadata": {},
   "outputs": [
    {
     "name": "stdout",
     "output_type": "stream",
     "text": [
      "Faculty Resources _Faculty Resources (23860000000039211)\n",
      "College of Arts and Science Resources College of Arts and Science Resources (23860000000071781)\n",
      "COMD 362 Online COMD_362_template_Online_WW21 (23860000000127916)\n",
      "COMD 460 Online COMD_460_template_Online_WW21 (23860000000130485)\n",
      "CDC - August 2022 Course Developer Certificate – August 2022 (23860000000142050)\n",
      "CDC – May 2022 Course Developer Certificate – May 2022 (23860000000126967)\n",
      "Course Developer Certification - September 2021 Course Developer Certification - September 2021 (23860000000136539)\n",
      "EQUATES EQUATES (23860000000148928)\n",
      "ERAU pCard ERAU Corporate Card Training (23860000000020791)\n",
      "ERAU-Worldwide COAS Research ERAU-Worldwide COAS Research (23860000000106910)\n",
      "MATH 241 MATH 241 Calculus & Anyl Geometry I - Jan 2023 - Online (23860000000154911)\n",
      "MATH 242 MATH 242 Calculus & Anyl Geometry II - Jan 2023 - EagleVision Home/Blended (23860000000154913)\n",
      "MATH 242 MATH 242 Calculus & Anyl Geometry II - Jan 2023 - Online (23860000000154914)\n",
      "MATH 143 Online PDL MATH_143_template_Online_WW20PDL (23860000000107874)\n",
      "MATH 240 Series Sandbox MATH_240Series_Sandbox (23860000000151140)\n",
      "MATH_241_template_MMT_WW23 MATH_241_template_MMT_WW23 (23860000000154903)\n",
      "MATH 241 Online MATH_241_template_Online_WW22 (23860000000136576)\n",
      "MATH_242_template_MMT_WW23 MATH_242_template_MMT_WW23 (23860000000154886)\n",
      "MATH 242 Online MATH_242_template_Online_WW22 (23860000000138464)\n",
      "MATH_243_template_MMT_WW23 MATH_243_template_MMT_WW23 (23860000000155815)\n",
      "MATH 243 Online MATH_243_template_Online_WW22 (23860000000142810)\n",
      "MATH 345 Online MATH_345_template_Online_WW22 (23860000000144936)\n",
      "MST Resource Center MST Resource Center (23860000000012227)\n",
      "New_MATH_241_Reed New_MATH_241_Reed (23860000000141976)\n",
      "Research Scholars Program Research Scholars Program (23860000000126862)\n",
      "VECTOR FR VECTOR Faculty Resources (23860000000105152)\n",
      "wwo_MATH_242_template wwo_MATH_242_template (23860000000154646)\n",
      "Zackery Reed Sandbox Zackery Reed Sandbox (23860000000132469)\n"
     ]
    }
   ],
   "source": [
    "for course in canvas.get_courses():\n",
    "    print(course)\n",
    "    \n",
    "# Check for the full course id you want to use"
   ]
  },
  {
   "cell_type": "code",
   "execution_count": 7,
   "id": "8dd7a11d",
   "metadata": {},
   "outputs": [
    {
     "name": "stdout",
     "output_type": "stream",
     "text": [
      "Module 1-2 Discussion: Torty and Harry's Race  (23860000003042719)\n",
      "Module 3 Discussion: Virtual Study Hall (23860000003042714)\n",
      "Modules 4-5 Group Discussion: Modeling with Derivatives (GRP) (23860000003042709)\n",
      "Module 6 Discussion: Virtual Study Hall (23860000003042707)\n",
      "Modules 7-8 Group Discussion: Prices and Power Lines (GRP) (23860000003042701)\n",
      "Module 9 Discussion: Virtual Study Hall (23860000003042696)\n",
      "Module 1 Assignment: MyLab Math Homework (23860000003042751)\n",
      "Module 2 Assignment: MyLab Math Homework (23860000003042764)\n",
      "Module 3 Assignment: MyLab Math Homework (23860000003042780)\n",
      "Module 4 Assignment: MyLab Math Homework (23860000003042802)\n",
      "Module 5 Assignment: MyLab Math Homework (23860000003042810)\n",
      "Module 6 Assignment: MyLab Math Homework (23860000003042827)\n",
      "Module 7 Assignment: MyLab Math Homework (23860000003042843)\n",
      "Module 8 Assignment: MyLab Math Homework (23860000003042847)\n",
      "Module 9 Assignment: MyLab Math Homework (23860000003042856)\n",
      "Module 1 Pause and Ponder Videos: Interactive Activity, Part 1 (23860000003042640)\n",
      "Module 1 Pause and Ponder Videos: Interactive Activity, Part 2 (23860000003042672)\n",
      "Module 2 Pause and Ponder Videos: Interactive Activity (23860000003042690)\n",
      "Module 2 Assignment: MyLab Math Test 1 Practice (23860000003042769)\n",
      "Module 2 Assignment: MATLAB Tutorial: Lessons 1-4 (23860000003042761)\n",
      "Module 3 Pause and Ponder Videos: Interactive Activity (23860000003042647)\n",
      "Module 4 Pause and Ponder Videos: Interactive Activity (23860000003042683)\n",
      "Module 5 Pause and Ponder Videos: Interactive Activity (23860000003042676)\n",
      "Module 5 Assignment: MyLab Math Test 2 Practice (23860000003042817)\n",
      "Module 8 Pause and Ponder Videos: Interactive Activity, Part 1 (23860000003042667)\n",
      "Module 8 Pause and Ponder Videos: Interactive Activity, Part 2 (23860000003042659)\n",
      "Module 8 Assignment: MyLab Math Test 3 Practice (23860000003042851)\n",
      "Module 9 Pause and Ponder Videos: Interactive Activity (23860000003042653)\n",
      "Module 2 Assignment: MyLab Math Test 1 Practice Show Work (23860000003042777)\n",
      "Module 5 Assignment: MyLab Math Test 2 Practice Show Work (23860000003042824)\n",
      "Module 8 Assignment: MyLab Math Test 3 Practice Show Work (23860000003042854)\n",
      "Module 3 Assignment: MyLab Math Test 1 Study Guide (Optional) (23860000003042796)\n",
      "Module 6 Assignment: MyLab Math Test 2 Study Guide (Optional) (23860000003042839)\n",
      "Module 9 Assignment: MyLab Math Test 3 Study Guide (Optional) (23860000003042864)\n",
      "Module 3 Assignment: MyLab Math Test 1 (23860000003042787)\n",
      "Module 6 Assignment: MyLab Math Test 2 (23860000003042831)\n",
      "Module 9 Assignment: MyLab Math Test 3 (23860000003042859)\n",
      "Module 3 Assignment: MyLab Math Test 1 Show Work (23860000003042791)\n",
      "Module 6 Assignment: MyLab Math Test 2 Show Work  (23860000003042835)\n",
      "Module 9 Assignment: MyLab Math Test 3 Show Work   (23860000003042862)\n"
     ]
    }
   ],
   "source": [
    "# Change this to the course you are interested in\n",
    "course_id = 23860000000154911\n",
    "course = canvas.get_course(course_id)\n",
    "\n",
    "# Use this to check for the assignment ids\n",
    "assignments = course.get_assignments()\n",
    "for assignment in assignments:\n",
    "    print(assignment)"
   ]
  },
  {
   "cell_type": "code",
   "execution_count": null,
   "id": "8d785e4b",
   "metadata": {},
   "outputs": [],
   "source": []
  }
 ],
 "metadata": {
  "kernelspec": {
   "display_name": "Python 3 (ipykernel)",
   "language": "python",
   "name": "python3"
  },
  "language_info": {
   "codemirror_mode": {
    "name": "ipython",
    "version": 3
   },
   "file_extension": ".py",
   "mimetype": "text/x-python",
   "name": "python",
   "nbconvert_exporter": "python",
   "pygments_lexer": "ipython3",
   "version": "3.9.13"
  }
 },
 "nbformat": 4,
 "nbformat_minor": 5
}
