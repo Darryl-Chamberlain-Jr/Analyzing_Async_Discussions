{
 "cells": [
  {
   "cell_type": "markdown",
   "metadata": {},
   "source": [
    "# Deidentify"
   ]
  },
  {
   "cell_type": "markdown",
   "metadata": {},
   "source": [
    "## Goal: Remove all mention of names in file\n",
    "\n",
    "Procedure:\n",
    "\n",
    "1) Collect all unique names from 'Speaker ID' column. \n",
    "2) Create lists for all first names, last names, and first+last names. \n",
    "3) Create list of pseudonyms with same length as unique names from 'Speaker ID' column.\n",
    "4) Create dictonary of unique names as keys and assign pseudonyms\n",
    "5) Replace all entries in 'Speaker ID'.\n",
    "6) Replace first+last name mentions, first names, and last names in 'Analysis Unit' column.\n",
    "7) Save revised xslx file.\n",
    "8) Delete old xlsx file."
   ]
  },
  {
   "cell_type": "code",
   "execution_count": 1,
   "metadata": {},
   "outputs": [],
   "source": [
    "import glob\n",
    "import os\n",
    "import numpy\n",
    "import pandas as pd\n",
    "import random, string"
   ]
  },
  {
   "cell_type": "code",
   "execution_count": 2,
   "metadata": {},
   "outputs": [],
   "source": [
    "base_dir=os.getcwd()\n",
    "if os.name == 'nt':\n",
    "    path_break='\\\\'\n",
    "else:\n",
    "    path_break='/'"
   ]
  },
  {
   "cell_type": "code",
   "execution_count": 3,
   "metadata": {},
   "outputs": [],
   "source": [
    "# Collects names of files in the '*_Files_to_Deidentify' folders. \n",
    "all_files=[]\n",
    "for file in glob.glob(f'{base_dir}{path_break}Files_to_Deidentify{path_break}*'):\n",
    "    if '$' not in file:\n",
    "        all_files.append(file)"
   ]
  },
  {
   "cell_type": "code",
   "execution_count": 5,
   "metadata": {},
   "outputs": [],
   "source": [
    "for identified_file in all_files:\n",
    "    id_df = pd.read_excel(identified_file)\n",
    "    initial_speaker_list = list(set(id_df['Speaker ID'].to_list()))\n",
    "    speaker_list = [x for x in initial_speaker_list if x == x]\n",
    "\n",
    "    last_name_list = []\n",
    "    first_name_list = []\n",
    "    first_last_name_list = []\n",
    "\n",
    "    for raw_name in speaker_list:\n",
    "        if len(raw_name)>0:\n",
    "            raw_name = raw_name.replace('.', '')\n",
    "            first_last_name_list.append(raw_name)\n",
    "\n",
    "            split_name = raw_name.split(' ')\n",
    "            last_name_list.append(split_name[-1])\n",
    "            \n",
    "            if len(split_name) > 2:\n",
    "                first_two_names = f'{split_name[0]} {split_name[1]}'\n",
    "                first_name_list.append(first_two_names)\n",
    "                first_name_list.append(split_name[0]) # Just in case a student has two first names like \"Ann Marie\" \"Ann\"\n",
    "            elif len(split_name) > 1:\n",
    "                first_name_list.append(split_name[0])\n",
    "\n",
    "    pseudonym_list = []\n",
    "    while len(pseudonym_list) != len(first_last_name_list):\n",
    "        temp_generated = ''.join(random.choices(string.ascii_uppercase + string.digits, k=8))\n",
    "        temp_add = []\n",
    "        temp_add.extend(pseudonym_list)\n",
    "        temp_add.append(temp_generated)\n",
    "        temp_add = list(set(temp_add))\n",
    "\n",
    "        while len(temp_add) == len(pseudonym_list):\n",
    "            temp_generated = unique_ID = ''.join(random.choices(string.ascii_uppercase + string.digits, k=8))\n",
    "            temp_add = []\n",
    "            temp_add.extend(pseudonym_list)\n",
    "            temp_add.append(temp_generated)\n",
    "            temp_add = list(set(temp_add))\n",
    "\n",
    "        pseudonym_list.append(temp_generated)"
   ]
  },
  {
   "cell_type": "code",
   "execution_count": 25,
   "metadata": {},
   "outputs": [],
   "source": [
    "# Test inserting images into xlsx files. \n",
    "import xlsxwriter\n",
    "from PIL import Image\n",
    "\n",
    "test_pic = 'p1.png'\n",
    "\n",
    "workbook = xlsxwriter.Workbook('pandas_simple.xlsx')\n",
    "worksheet = workbook.add_worksheet('test_1')\n",
    "\n",
    "width, height = Image.open(test_pic).size\n",
    "\n",
    "worksheet.write(0, 0, test_pic)\n",
    "worksheet.insert_image(0, 0, test_pic)\n",
    "worksheet.set_row(0, height+10)\n",
    "worksheet.set_column(0, 0, width/5.3)\n",
    "\n",
    "workbook.close()\n",
    "\n"
   ]
  },
  {
   "cell_type": "markdown",
   "metadata": {},
   "source": []
  }
 ],
 "metadata": {
  "kernelspec": {
   "display_name": "Python 3",
   "language": "python",
   "name": "python3"
  },
  "language_info": {
   "codemirror_mode": {
    "name": "ipython",
    "version": 3
   },
   "file_extension": ".py",
   "mimetype": "text/x-python",
   "name": "python",
   "nbconvert_exporter": "python",
   "pygments_lexer": "ipython3",
   "version": "3.11.3"
  },
  "orig_nbformat": 4
 },
 "nbformat": 4,
 "nbformat_minor": 2
}
